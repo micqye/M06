{
 "cells": [
  {
   "cell_type": "code",
   "execution_count": null,
   "metadata": {},
   "outputs": [],
   "source": [
    "#first you import the datetime\n",
    "import datetime\n",
    "#define \"today\" as today's date\n",
    "today = datetime.date.today()\n",
    "#open file called \"today\"\n",
    "file_ptr = open('today.txt', 'w')\n",
    "#write today's date in the file\n",
    "file_ptr.write(str(today))\n",
    "#close file\n",
    "file_ptr.close()"
   ]
  },
  {
   "cell_type": "markdown",
   "metadata": {},
   "source": [
    "13.1 Write the current date as a string to the text file today.txt"
   ]
  },
  {
   "cell_type": "code",
   "execution_count": null,
   "metadata": {},
   "outputs": [],
   "source": [
    "#open 'today' file to read\n",
    "file_ptr = open('today.txt', 'r')\n",
    "today_date = file_ptr.read()\n",
    "file_ptr.close()"
   ]
  },
  {
   "cell_type": "markdown",
   "metadata": {},
   "source": [
    "13.2 Read the text file today.txt into the string today_string."
   ]
  },
  {
   "cell_type": "code",
   "execution_count": null,
   "metadata": {},
   "outputs": [],
   "source": [
    "today = datetime.datetime.strptime(today_date, '%Y-%m-%d').date()\n",
    "print('Today is', today)"
   ]
  },
  {
   "cell_type": "markdown",
   "metadata": {},
   "source": [
    "13.3 Parse the date from today_string."
   ]
  },
  {
   "cell_type": "code",
   "execution_count": 1,
   "metadata": {},
   "outputs": [
    {
     "name": "stdout",
     "output_type": "stream",
     "text": [
      "Today's date and time is 2023-10-02 17:26:53.360392\n",
      "Today's date and time is 2023-10-02 17:26:53.400491\n",
      "Today's date and time is 2023-10-02 17:26:53.700640\n",
      "Completed\n"
     ]
    }
   ],
   "source": [
    "#import tools\n",
    "import multiprocessing\n",
    "from datetime import datetime\n",
    "import time\n",
    "import random\n",
    "\n",
    "#create method\n",
    "def print_time():\n",
    "    now = datetime.now()\n",
    "    print(\"Today's date and time is {}\".format(now))\n",
    "    time.sleep(random.random())\n",
    "\n",
    "#code method for processing\n",
    "if __name__ == '__main__':\n",
    "    process1 = multiprocessing.Process(target=print_time())\n",
    "    process2 = multiprocessing.Process(target=print_time())\n",
    "    process3 = multiprocessing.Process(target=print_time())\n",
    "    process1.start()\n",
    "    process2.start()\n",
    "    process3.start()\n",
    "    process1.join()\n",
    "    process2.join()\n",
    "    process3.join()\n",
    "\n",
    "    print('Completed')\n"
   ]
  },
  {
   "cell_type": "markdown",
   "metadata": {},
   "source": [
    "15.1 Use multiprocessing to create three separate processes. Make each one wait a random number of seconds between zero and one, print the current time, and then exit."
   ]
  }
 ],
 "metadata": {
  "kernelspec": {
   "display_name": "Python 3",
   "language": "python",
   "name": "python3"
  },
  "language_info": {
   "codemirror_mode": {
    "name": "ipython",
    "version": 3
   },
   "file_extension": ".py",
   "mimetype": "text/x-python",
   "name": "python",
   "nbconvert_exporter": "python",
   "pygments_lexer": "ipython3",
   "version": "3.11.2"
  },
  "orig_nbformat": 4
 },
 "nbformat": 4,
 "nbformat_minor": 2
}
